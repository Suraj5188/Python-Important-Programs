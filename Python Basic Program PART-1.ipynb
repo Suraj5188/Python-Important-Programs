{
 "cells": [
  {
   "cell_type": "markdown",
   "id": "3ba4716b",
   "metadata": {},
   "source": [
    "__Python Basic Program PART-1__"
   ]
  },
  {
   "cell_type": "markdown",
   "id": "a21a0829",
   "metadata": {},
   "source": [
    "__1:Pallindrone number__"
   ]
  },
  {
   "cell_type": "code",
   "execution_count": 29,
   "id": "69a9ee5e",
   "metadata": {},
   "outputs": [
    {
     "name": "stdout",
     "output_type": "stream",
     "text": [
      "Enter Number:121\n",
      "yes! 121 is pallindrone number\n"
     ]
    }
   ],
   "source": [
    "#Pallindrone number\n",
    "num=int(input(\"Enter Number:\"))\n",
    "temp=num\n",
    "sum=0\n",
    "while(num>0):\n",
    "    dig=num%10\n",
    "    sum=sum*10+dig\n",
    "    num=num//10\n",
    "if(temp==sum):\n",
    "    print(f\"yes! {temp} is pallindrone number\")\n",
    "else:\n",
    "    print(f\"{temp} is not pallindrone number\")"
   ]
  },
  {
   "cell_type": "markdown",
   "id": "fbcd8178",
   "metadata": {},
   "source": [
    "__2:Armstrong Number__"
   ]
  },
  {
   "cell_type": "code",
   "execution_count": 28,
   "id": "6dfe4493",
   "metadata": {},
   "outputs": [
    {
     "name": "stdout",
     "output_type": "stream",
     "text": [
      "Enter Number:407\n",
      "407 is armstrong number\n"
     ]
    }
   ],
   "source": [
    "#armstrong number\n",
    "num=int(input(\"Enter Number:\"))\n",
    "temp=num\n",
    "sum=0\n",
    "while(num>0):\n",
    "    dig=num%10\n",
    "    sum=sum+(dig*dig*dig)\n",
    "    num=num//10\n",
    "if(sum==temp):\n",
    "    print(f\"{temp} is armstrong number\")\n",
    "else:\n",
    "    print(f\"{temp} is not armstrong number\")"
   ]
  },
  {
   "cell_type": "markdown",
   "id": "4045f9fa",
   "metadata": {},
   "source": [
    "__3: Add Two number programm python__"
   ]
  },
  {
   "cell_type": "code",
   "execution_count": 11,
   "id": "3cf7c009",
   "metadata": {},
   "outputs": [
    {
     "name": "stdout",
     "output_type": "stream",
     "text": [
      "Enter Number1:10\n",
      "Enter Number2:40\n",
      "Addition of two numbers 10 & 40 = 50\n"
     ]
    }
   ],
   "source": [
    "#Add Two number programm python\n",
    "num1=int(input(\"Enter Number1:\"))\n",
    "num2=int(input(\"Enter Number2:\"))\n",
    "\n",
    "result=num1+num2\n",
    "print(f\"Addition of two numbers {num1} & {num2} = {result}\") "
   ]
  },
  {
   "cell_type": "markdown",
   "id": "8652557d",
   "metadata": {},
   "source": [
    " __4.Maximum of two numbers program in python__"
   ]
  },
  {
   "cell_type": "code",
   "execution_count": 15,
   "id": "400bae2d",
   "metadata": {},
   "outputs": [
    {
     "name": "stdout",
     "output_type": "stream",
     "text": [
      "Enter number1: 1.5\n",
      "Enter number2: 2.6\n",
      "The maximum number is 2.6\n",
      "None\n"
     ]
    }
   ],
   "source": [
    "#Maximum of two numbers program in python\n",
    "num3=float(input(\"Enter number1: \"))\n",
    "num4=float(input(\"Enter number2: \"))\n",
    "if(num3>num4):\n",
    "    print(f\"The maximum number is {num3}\")\n",
    "else:\n",
    "    print(print(f\"The maximum number is {num4}\"))"
   ]
  },
  {
   "cell_type": "markdown",
   "id": "7c15223a",
   "metadata": {},
   "source": [
    "__5: python program of factorial of numbers__"
   ]
  },
  {
   "cell_type": "code",
   "execution_count": 9,
   "id": "72598975",
   "metadata": {},
   "outputs": [
    {
     "name": "stdout",
     "output_type": "stream",
     "text": [
      "Enter Number:4\n",
      "The factorial number is 24\n"
     ]
    }
   ],
   "source": [
    "# python program of factorial of numbers\n",
    "n=int(input(\"Enter Number:\"))\n",
    "\n",
    "def factorial(number):\n",
    "       return 1 if(number==1 or number==0) else number*factorial(number-1)\n",
    "\n",
    "result=factorial(n)\n",
    "    \n",
    "print(f\"The factorial number is {result}\")"
   ]
  },
  {
   "cell_type": "markdown",
   "id": "4856a110",
   "metadata": {},
   "source": [
    "__6: Python programm to find area of circle__"
   ]
  },
  {
   "cell_type": "code",
   "execution_count": 25,
   "id": "f552bc66",
   "metadata": {},
   "outputs": [
    {
     "name": "stdout",
     "output_type": "stream",
     "text": [
      "Enter radius: 3\n",
      "Area of circle is 28.274333882308138\n"
     ]
    }
   ],
   "source": [
    "# Python programm to find area of circle\n",
    "import math\n",
    "\n",
    "radius=float(input(\"Enter radius: \"))\n",
    "area=math.pi*radius*radius\n",
    "\n",
    "print(f\"Area of circle is {area}\")"
   ]
  },
  {
   "cell_type": "markdown",
   "id": "4532b54c",
   "metadata": {},
   "source": [
    "__7: Python Program for simple interest__"
   ]
  },
  {
   "cell_type": "code",
   "execution_count": 3,
   "id": "6a1d1ab0",
   "metadata": {},
   "outputs": [
    {
     "name": "stdout",
     "output_type": "stream",
     "text": [
      "Enter principal amount:10000\n",
      "Enter Time: 1\n",
      "Enter rate of interest: 10\n",
      "The simple intrest is intrest is 1000.0\n"
     ]
    }
   ],
   "source": [
    "#Python Program for simple interest\n",
    "\n",
    "#principal amount\n",
    "p=int(input(\"Enter principal amount:\"))\n",
    "\n",
    "#Time\n",
    "t=int(input(\"Enter Time: \"))\n",
    "\n",
    "#rate of interest\n",
    "r=int(input(\"Enter rate of interest: \"))\n",
    "\n",
    "def simple_intrest(n1,n2,n3):\n",
    "    si=n1*n2*n3/100\n",
    "    return si\n",
    "\n",
    "rs=simple_intrest(p,t,r)\n",
    "\n",
    "print(f\"The simple intrest is intrest is {rs}\")"
   ]
  },
  {
   "cell_type": "markdown",
   "id": "4a62d687",
   "metadata": {},
   "source": [
    "__8.Python Program for compound interest__"
   ]
  },
  {
   "cell_type": "code",
   "execution_count": 8,
   "id": "4b762e7d",
   "metadata": {},
   "outputs": [
    {
     "name": "stdout",
     "output_type": "stream",
     "text": [
      "The compond interest is 1000.0\n"
     ]
    }
   ],
   "source": [
    "#Python Program for compound interest\n",
    "\n",
    "#refer program 7 for understanding\n",
    "principle_p1=10000\n",
    "rate_of_interest_r1=10\n",
    "time_t1=1\n",
    "\n",
    "def compond_interest(p1,r1,t1):\n",
    "    si=p1*r1*t1/100\n",
    "    a=p1+si\n",
    "    \n",
    "    #now calculating compound interest\n",
    "    ci=a-p\n",
    "    \n",
    "    return ci\n",
    "\n",
    "rs=compond_interest(10000,10,1)\n",
    "print(f\"The compond interest is {rs}\")"
   ]
  },
  {
   "cell_type": "markdown",
   "id": "62e4701b",
   "metadata": {},
   "source": [
    "__9: To check wheather is prime number or not__"
   ]
  },
  {
   "cell_type": "code",
   "execution_count": 43,
   "id": "e3ce1961",
   "metadata": {},
   "outputs": [
    {
     "name": "stdout",
     "output_type": "stream",
     "text": [
      "Enter number you want: 2\n"
     ]
    }
   ],
   "source": [
    "#To check wheather is prime number or not\n",
    "\n",
    "#prime number is only divisible by 1 and itself\n",
    "number1=int(input(\"Enter number you want: \"))\n",
    "if(number1<2):\n",
    "    print(\"Not a prime number\")\n",
    "else:\n",
    "    for i in range(2,number1):\n",
    "        if(number1 %i==0):\n",
    "            print(\"Number is Not Prime\")\n",
    "            break\n",
    "    else:\n",
    "        print(\"Number is Prime\")"
   ]
  },
  {
   "cell_type": "markdown",
   "id": "4ec7b396",
   "metadata": {},
   "source": [
    "__10: Print it even or odd__"
   ]
  },
  {
   "cell_type": "code",
   "execution_count": 36,
   "id": "201092e7",
   "metadata": {},
   "outputs": [
    {
     "name": "stdout",
     "output_type": "stream",
     "text": [
      "Number 16 is Even\n"
     ]
    },
    {
     "data": {
      "text/plain": [
       "16"
      ]
     },
     "execution_count": 36,
     "metadata": {},
     "output_type": "execute_result"
    }
   ],
   "source": [
    "#Print it even or odd\n",
    "def even_odd(n):\n",
    "    if(n%2==0):\n",
    "        print(f\"Number {n} is Even\")\n",
    "    else:\n",
    "        print(f\"Number {n} is odd\")\n",
    "    return n\n",
    "\n",
    "even_odd(16)"
   ]
  },
  {
   "cell_type": "markdown",
   "id": "104d3d0a",
   "metadata": {},
   "source": [
    "__11: Program to print prime number in an interval__"
   ]
  },
  {
   "cell_type": "code",
   "execution_count": 40,
   "id": "9ed6d268",
   "metadata": {},
   "outputs": [
    {
     "name": "stdout",
     "output_type": "stream",
     "text": [
      "Enter number1 from start: 1\n",
      "Enter number2 for end: 20\n",
      "[2, 3, 5, 7, 11, 13, 17, 19]\n"
     ]
    }
   ],
   "source": [
    "#Python Program to print prime in an interval\n",
    "range_1=int(input(\"Enter number1 from start: \"))\n",
    "range_2=int(input(\"Enter number2 for end: \"))\n",
    "\n",
    "def fun_prime(n1,n2):\n",
    "    prime_list=[]\n",
    "    for num in range(n1,n2+1):\n",
    "        if(num>1):\n",
    "            for i in range(2,num):\n",
    "                if(num%i==0):\n",
    "                    break\n",
    "            else:\n",
    "                prime_list.append(num)\n",
    "    \n",
    "    return prime_list\n",
    "\n",
    "result=fun_prime(range_1,range_2)\n",
    "\n",
    "if len(result)==0:\n",
    "    print(\"Their is no prime number in this range\")\n",
    "else:\n",
    "    print(result)"
   ]
  },
  {
   "cell_type": "markdown",
   "id": "d06f5700",
   "metadata": {},
   "source": [
    "__12: Python program for n-th fibonacii number__"
   ]
  },
  {
   "cell_type": "code",
   "execution_count": 8,
   "id": "7f5fcc0f",
   "metadata": {},
   "outputs": [
    {
     "name": "stdout",
     "output_type": "stream",
     "text": [
      "Enter Number: 3\n",
      "2\n"
     ]
    }
   ],
   "source": [
    "# Python program for n-th fibonacii number\n",
    "user=int(input(\"Enter Number: \"))\n",
    "def fabonaccii(n):\n",
    "    if n<0:\n",
    "        print(\"Please ! Enter valid input\")\n",
    "    elif n==0:\n",
    "        return 0\n",
    "    elif n==1 or n==2:\n",
    "        return 1\n",
    "    else:\n",
    "        #formula to find fibnocii number\n",
    "        return fabonaccii(n-1)+fabonaccii(n-2)\n",
    "rs=fabonaccii(user)\n",
    "\n",
    "print(rs)"
   ]
  },
  {
   "cell_type": "markdown",
   "id": "821bbd0d",
   "metadata": {},
   "source": [
    "__13.Check given number is fibnocii number or not__"
   ]
  },
  {
   "cell_type": "code",
   "execution_count": 10,
   "id": "f143d465",
   "metadata": {},
   "outputs": [
    {
     "name": "stdout",
     "output_type": "stream",
     "text": [
      "Enter number: 45\n",
      "The given number 45 is not fiboncii number\n"
     ]
    }
   ],
   "source": [
    "#Check given number is fibnocii number or not\n",
    "import math\n",
    "\n",
    "#function to check the square root is equal to the perfect number\n",
    "def perfect_square(x):\n",
    "    s=int(math.sqrt(x))\n",
    "    return s*s==x\n",
    "\n",
    "numb=int(input(\"Enter number: \"))\n",
    "result1=5*(numb*numb)+4\n",
    "result2=5*(numb*numb)-4\n",
    "\n",
    "if(perfect_square(result1)) or perfect_square(result2):\n",
    "    print(f\"The given number {numb} is fiboncii number\")\n",
    "else:\n",
    "    print(f\"The given number {numb} is not fiboncii number\")"
   ]
  },
  {
   "cell_type": "markdown",
   "id": "87501a4a",
   "metadata": {},
   "source": [
    "__14.Print ASCII value of given charcter__"
   ]
  },
  {
   "cell_type": "code",
   "execution_count": 15,
   "id": "0f0b314c",
   "metadata": {},
   "outputs": [
    {
     "name": "stdout",
     "output_type": "stream",
     "text": [
      "Enter charcter to know ascii value: A\n",
      "The given character is A theri ascii value is 65\n"
     ]
    }
   ],
   "source": [
    "#Print ASCII value of given charcter\n",
    "character=input(\"Enter charcter to know ascii value: \")\n",
    "\n",
    "#ord is function that convert character into length\n",
    "print(f\"The given character is {character} theri ascii value is {ord(character)}\")"
   ]
  },
  {
   "cell_type": "markdown",
   "id": "5e081763",
   "metadata": {},
   "source": [
    "__15.Python Program to find sum of 1st n natural number__"
   ]
  },
  {
   "cell_type": "code",
   "execution_count": 21,
   "id": "617f482d",
   "metadata": {},
   "outputs": [
    {
     "name": "stdout",
     "output_type": "stream",
     "text": [
      "Enter Number: 9\n",
      "The natural number is 285\n"
     ]
    }
   ],
   "source": [
    "#Python Program to find sum of 1st n natural number\n",
    "\n",
    "#user input\n",
    "nat_numb=int(input(\"Enter Number: \"))\n",
    "#function\n",
    "def natural_number(n):\n",
    "    sum=0\n",
    "    for i in range(1,n+1):\n",
    "        sum=sum+(i*i)\n",
    "    return sum\n",
    "\n",
    "print(f\"The natural number is {natural_number(nat_numb)}\")"
   ]
  },
  {
   "cell_type": "markdown",
   "id": "e64f0a75",
   "metadata": {},
   "source": [
    "__16.Python program for cube sum of 1st n natural number__"
   ]
  },
  {
   "cell_type": "code",
   "execution_count": 25,
   "id": "8650bbfe",
   "metadata": {},
   "outputs": [
    {
     "name": "stdout",
     "output_type": "stream",
     "text": [
      "The cube sum of 1st n natural number 2025\n"
     ]
    }
   ],
   "source": [
    "#Python program for cube sum of 1st n natural number\n",
    "\n",
    "#refer program 15 for input\n",
    "def natural_sum_cube(n):\n",
    "    sum=0\n",
    "    for i in range(1,n+1):\n",
    "        sum=sum+pow(i,3) #OR sum=sum+(i*i*i)\n",
    "    return sum\n",
    "\n",
    "print(f\"The cube sum of 1st n natural number {natural_sum_cube(nat_numb)}\")"
   ]
  }
 ],
 "metadata": {
  "kernelspec": {
   "display_name": "Python 3 (ipykernel)",
   "language": "python",
   "name": "python3"
  },
  "language_info": {
   "codemirror_mode": {
    "name": "ipython",
    "version": 3
   },
   "file_extension": ".py",
   "mimetype": "text/x-python",
   "name": "python",
   "nbconvert_exporter": "python",
   "pygments_lexer": "ipython3",
   "version": "3.10.7"
  }
 },
 "nbformat": 4,
 "nbformat_minor": 5
}
