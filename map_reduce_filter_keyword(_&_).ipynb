{
  "nbformat": 4,
  "nbformat_minor": 0,
  "metadata": {
    "colab": {
      "provenance": [],
      "authorship_tag": "ABX9TyMbgmoGy1nqwOBrFfe+cjo7",
      "include_colab_link": true
    },
    "kernelspec": {
      "name": "python3",
      "display_name": "Python 3"
    },
    "language_info": {
      "name": "python"
    }
  },
  "cells": [
    {
      "cell_type": "markdown",
      "metadata": {
        "id": "view-in-github",
        "colab_type": "text"
      },
      "source": [
        "<a href=\"https://colab.research.google.com/github/Suraj5188/Python-Important-Programs/blob/main/map_reduce_filter_keyword(_%26_).ipynb\" target=\"_parent\"><img src=\"https://colab.research.google.com/assets/colab-badge.svg\" alt=\"Open In Colab\"/></a>"
      ]
    },
    {
      "cell_type": "code",
      "execution_count": null,
      "metadata": {
        "colab": {
          "base_uri": "https://localhost:8080/"
        },
        "id": "hgpnGh23-DYn",
        "outputId": "02d908fd-5eca-4520-bf15-5befcf90d66b"
      },
      "outputs": [
        {
          "output_type": "stream",
          "name": "stdout",
          "text": [
            "139881037305328\n",
            "139881037305328\n",
            "Hello suraj\n",
            "Hello Rachel\n"
          ]
        }
      ],
      "source": [
        "#function alaising in python\n",
        "\n",
        "def fun1(name):\n",
        "  print(f\"Hello {name}\")\n",
        "fun2_alaise_name=fun1\n",
        "print(id(fun1))\n",
        "print(id(fun2_alaise_name))\n",
        "\n",
        "fun1(\"suraj\")\n",
        "fun2_alaise_name(\"Rachel\")"
      ]
    },
    {
      "cell_type": "code",
      "source": [
        "#function alaising python\n",
        "def employee(name=\"suraj\"):\n",
        "  print(f\"Employee name is {name}\")\n",
        "\n",
        "company=employee\n",
        "\n",
        "employee()\n",
        "company(\"om\")"
      ],
      "metadata": {
        "colab": {
          "base_uri": "https://localhost:8080/"
        },
        "id": "Yej9ljJA_CYA",
        "outputId": "28b2943f-5d45-4720-9fb3-2c67db0a0781"
      },
      "execution_count": null,
      "outputs": [
        {
          "output_type": "stream",
          "name": "stdout",
          "text": [
            "Employee name is suraj\n",
            "Employee name is om\n"
          ]
        }
      ]
    },
    {
      "cell_type": "code",
      "source": [
        "x=lambda n:  print(\"even\") if n%2==0 else print(\"odd\")\n",
        "x(13)"
      ],
      "metadata": {
        "colab": {
          "base_uri": "https://localhost:8080/"
        },
        "id": "2elR60JbAtfD",
        "outputId": "3d0e83cd-8070-4b18-b485-1734bd2ec147"
      },
      "execution_count": null,
      "outputs": [
        {
          "output_type": "stream",
          "name": "stdout",
          "text": [
            "odd\n"
          ]
        }
      ]
    },
    {
      "cell_type": "code",
      "source": [
        "#*args in python\n",
        "def function1(name,*args):\n",
        "  for item in args:\n",
        "    print(name)\n",
        "    print(f\"{item}\")\n",
        "\n",
        "list1=['phobe','rachel','chandler','monica','ross']\n",
        "function1(\"suraj\",\"om\",\"raj\")\n",
        "print(type(function1))"
      ],
      "metadata": {
        "colab": {
          "base_uri": "https://localhost:8080/"
        },
        "id": "mSFJg8GXFI8_",
        "outputId": "1caaf7a2-c50e-4343-ce19-0615d48d7adc"
      },
      "execution_count": null,
      "outputs": [
        {
          "output_type": "stream",
          "name": "stdout",
          "text": [
            "suraj\n",
            "om\n",
            "suraj\n",
            "raj\n",
            "<class 'function'>\n"
          ]
        }
      ]
    },
    {
      "cell_type": "code",
      "source": [
        "#**kwargs in python\n",
        "\n",
        "def function2(**kwargs):\n",
        "    for k,v in kwargs.items():\n",
        "      print(f\" {k}: {v} \")\n",
        "\n",
        "function2(one=\"rose\",two=\"rachel\",three=\"phobe\")"
      ],
      "metadata": {
        "colab": {
          "base_uri": "https://localhost:8080/"
        },
        "id": "vKS5QNOILp72",
        "outputId": "1ceb1ddf-0ba5-44f5-8290-7e69658eeaa1"
      },
      "execution_count": null,
      "outputs": [
        {
          "output_type": "stream",
          "name": "stdout",
          "text": [
            " one: rose \n",
            " two: rachel \n",
            " three: phobe \n"
          ]
        }
      ]
    },
    {
      "cell_type": "code",
      "source": [
        "#map function\n",
        "numbers=[10,20,30,40,50]\n",
        "square=map(lambda x:x*x,numbers)\n",
        "print(list(square))"
      ],
      "metadata": {
        "id": "0g2EbTvdPogJ",
        "colab": {
          "base_uri": "https://localhost:8080/"
        },
        "outputId": "436c1275-3948-471b-813b-f5a8669d6c69"
      },
      "execution_count": null,
      "outputs": [
        {
          "output_type": "stream",
          "name": "stdout",
          "text": [
            "[100, 400, 900, 1600, 2500]\n"
          ]
        }
      ]
    },
    {
      "cell_type": "code",
      "source": [
        "#map function EX-2\n",
        "numbers2=[\"2\",\"4\",\"6\",\"7\",\"8\",\"9\"]\n",
        "result_square=list(map(int,numbers2))\n",
        "print(result_square)"
      ],
      "metadata": {
        "colab": {
          "base_uri": "https://localhost:8080/"
        },
        "id": "9dVTpXPj6usg",
        "outputId": "fde92c44-cba7-42e9-c7f1-ce10c1e9d11c"
      },
      "execution_count": null,
      "outputs": [
        {
          "output_type": "stream",
          "name": "stdout",
          "text": [
            "[2, 4, 6, 7, 8, 9]\n"
          ]
        }
      ]
    },
    {
      "cell_type": "markdown",
      "source": [
        "# **Filter Function Program EXAMPLE-1**"
      ],
      "metadata": {
        "id": "GinMjVMeRGnf"
      }
    },
    {
      "cell_type": "code",
      "source": [
        "#filter function\n",
        "#consider a list\n",
        "list1=[1,2,3,4,5,6,7,8,9,10,11,12,13,14,15,16,17,18,19,20]\n",
        "\n",
        "#We want only even number from list1\n",
        "result_even=list(filter(lambda n:n%2==0,list1))\n",
        "print(result_even)"
      ],
      "metadata": {
        "id": "InVttBlS7g-v",
        "colab": {
          "base_uri": "https://localhost:8080/"
        },
        "outputId": "6266895f-5eb3-415d-c395-7f31c66cfcbc"
      },
      "execution_count": 2,
      "outputs": [
        {
          "output_type": "stream",
          "name": "stdout",
          "text": [
            "[2, 4, 6, 8, 10, 12, 14, 16, 18, 20]\n"
          ]
        }
      ]
    },
    {
      "cell_type": "markdown",
      "source": [
        "## **Map Function Program Example 1**"
      ],
      "metadata": {
        "id": "AA-DhYnWWREz"
      }
    },
    {
      "cell_type": "code",
      "source": [
        "#map function program\n",
        "#We want all numbers should be double in list\n",
        "\n",
        "#consider a list\n",
        "list2=[10,20,30,40,50,60,70]\n",
        "\n",
        "#now we use map function to a list1\n",
        "result_double=list(map(lambda x:x+x,list2))\n",
        "\n",
        "print(result_double)"
      ],
      "metadata": {
        "colab": {
          "base_uri": "https://localhost:8080/"
        },
        "id": "kyUdesRoWXt4",
        "outputId": "29748b12-50b2-420f-b971-41e2577bd6ae"
      },
      "execution_count": 3,
      "outputs": [
        {
          "output_type": "stream",
          "name": "stdout",
          "text": [
            "[20, 40, 60, 80, 100, 120, 140]\n"
          ]
        }
      ]
    },
    {
      "cell_type": "markdown",
      "source": [
        "Map Function Program Example 2"
      ],
      "metadata": {
        "id": "XM7TP8A_es70"
      }
    },
    {
      "cell_type": "code",
      "source": [
        "#example 2- To calculate square of each nunber into the list\n",
        "import math\n",
        "num=(10,20,30,50,60)\n",
        "result_square=list(map(lambda x:x*x,num))\n",
        "print(result_square)"
      ],
      "metadata": {
        "colab": {
          "base_uri": "https://localhost:8080/"
        },
        "id": "Xl3daaUjejy0",
        "outputId": "52f7ba64-1a51-489c-b5bd-7a424650f168"
      },
      "execution_count": 11,
      "outputs": [
        {
          "output_type": "stream",
          "name": "stdout",
          "text": [
            "[100, 400, 900, 2500, 3600]\n"
          ]
        }
      ]
    },
    {
      "cell_type": "markdown",
      "source": [
        "## **Reduce function**"
      ],
      "metadata": {
        "id": "gEpIQQi5iANO"
      }
    },
    {
      "cell_type": "code",
      "source": [
        "#reduce function\n",
        "#we want total from list\n",
        "from functools import reduce\n",
        "list3=[100,200,300,400,500]\n",
        "result_total=reduce(lambda a,b:a+b,list3)\n",
        "print(result_total)"
      ],
      "metadata": {
        "colab": {
          "base_uri": "https://localhost:8080/"
        },
        "id": "ol4-jrtnf8WB",
        "outputId": "1c412b0c-14c1-4382-f27d-036ef3797380"
      },
      "execution_count": 13,
      "outputs": [
        {
          "output_type": "stream",
          "name": "stdout",
          "text": [
            "1500\n"
          ]
        }
      ]
    },
    {
      "cell_type": "code",
      "source": [],
      "metadata": {
        "id": "ULWYrW8Pmix0"
      },
      "execution_count": null,
      "outputs": []
    }
  ]
}